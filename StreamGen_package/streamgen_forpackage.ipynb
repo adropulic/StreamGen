{
 "cells": [
  {
   "cell_type": "code",
   "execution_count": 1,
   "metadata": {},
   "outputs": [
    {
     "name": "stderr",
     "output_type": "stream",
     "text": [
      "/home/dropulic/.local/lib/python3.8/site-packages/pandas/core/computation/expressions.py:20: UserWarning: Pandas requires version '2.7.3' or newer of 'numexpr' (version '2.7.1' currently installed).\n",
      "  from pandas.core.computation.check import NUMEXPR_INSTALLED\n"
     ]
    }
   ],
   "source": [
    "#going to want create an instance of the the Dekel profile and give it the final state parameters so it can \n",
    "#just call rho(radius) etc and plot \n",
    "import numpy as np\n",
    "import astropy.units as u\n",
    "import pandas as pd\n",
    "import astropy.constants as const\n",
    "import matplotlib as mpl\n",
    "import matplotlib.pyplot as plt\n",
    "from glob import iglob\n",
    "import glob\n",
    "import random"
   ]
  },
  {
   "cell_type": "code",
   "execution_count": 2,
   "metadata": {},
   "outputs": [],
   "source": [
    "from scipy.signal import argrelmin, argrelextrema, argrelmax\n",
    "import numpy.ma as ma"
   ]
  },
  {
   "cell_type": "code",
   "execution_count": 3,
   "metadata": {},
   "outputs": [
    {
     "name": "stdout",
     "output_type": "stream",
     "text": [
      ">>> Normalizing primordial power spectrum P(k)=(k/k_0)^n_s ...\n",
      "    such that sigma(R=8Mpc/h) =   0.8000.\n",
      ">>> Tabulating sigma(M,z=0) ...\n",
      "    From now on, sigma(M,z) is computed by interpolation.\n",
      ">>> Tabulating z(W) and z(t_lkbk)...\n",
      ">>> Preparing output redshifts for merger trees ...\n",
      "    Number of output redshifts =  354, up to z = 20.06\n",
      ">>> Tabulating Parkinson+08 J(u_res) ...\n",
      ">>> Building interpolation grid for Green+19 M(<r|f_b,c)...\n",
      ">>> Building interpolation grid for Green+19 sigma(r|f_b,c)...\n",
      ">>> Building interpolation grid for Green+19 d2Phidr2(r|f_b,c)...\n",
      ">>> Building interpolator for Jiang+15 orbit sampler...\n"
     ]
    }
   ],
   "source": [
    "import sys\n",
    "sys.path.insert(0, '/tigress/dropulic/SatGen/')\n",
    "import aux\n",
    "import orbit as orb\n",
    "from scipy.interpolate import interp1d\n",
    "from profiles import Dekel, MN, EnergyAngMomGivenRpRa, Phi\n",
    "from galhalo import Reff\n",
    "#mass, DekelConcentration, DekelSlope, VirialOverdensity\n",
    "#halo = Dekel(117781540.8609773, 3.0486991 ,1.4538499, 227.27994,z=0.)\n",
    "import os\n",
    "#import astropy\n",
    "#from astropy.cosmology import FlatLambdaCDM\n",
    "#cosmo = FlatLambdaCDM(H0=70, Om0=0.3)\n",
    "#import astropy.units as u\n",
    "#import astropy.cosmology.units as cu\n",
    "#u.add_enabled_units(cu)"
   ]
  },
  {
   "cell_type": "code",
   "execution_count": 4,
   "metadata": {},
   "outputs": [],
   "source": [
    "import load_galaxy"
   ]
  },
  {
   "cell_type": "code",
   "execution_count": 5,
   "metadata": {},
   "outputs": [
    {
     "name": "stdout",
     "output_type": "stream",
     "text": [
      "/scratch/gpfs/dropulic/power_spectrum/SatGen_trees/SatGen/OUTPUT_SAT_MW_fd0.05_fb0.00_NIHAO_SatEvo_Mres3/tree769_lgM12.38.npz\n",
      "flattening 25.0\n",
      "disk fraction 0.05\n",
      "stellar_mass_floor 500000.0\n",
      "(10670,)\n",
      "[ True  True  True  True  True  True  True  True  True  True  True  True\n",
      "  True  True  True  True  True  True  True  True  True  True  True  True\n",
      "  True  True  True  True  True  True  True  True  True  True  True  True\n",
      "  True  True  True  True  True  True  True  True  True  True  True  True\n",
      "  True  True  True  True  True  True  True  True  True  True  True  True\n",
      "  True  True  True  True  True  True  True  True  True  True  True  True\n",
      "  True  True  True  True  True  True  True  True  True  True  True  True\n",
      "  True  True]\n"
     ]
    }
   ],
   "source": [
    "galaxy = load_galaxy.Galaxy()"
   ]
  },
  {
   "cell_type": "code",
   "execution_count": 6,
   "metadata": {},
   "outputs": [
    {
     "name": "stdout",
     "output_type": "stream",
     "text": [
      "Attributes of the Galaxy object: ['flattening', 'fd', 'stellar_mass_floor', 'host_coords_alltime_list', 'idx_zaccs', 'pericenter_locs', 'apocenter_locs', 'all_apo', 'all_peri', 'coordinates_peri', 'coordinates_apo', 'velocities_apo', 'velocities_peri', 'coordinates_hold', 'velocities_hold', 'velocity_dispersion', 'sat_disk_rhobar', 'sat_stellar_disk_rhobar', 's001s', 'rhs', 'rh_halfs', 'rho_bars', 'mass_ratios', 'ras', 'rps', 'eccs', 'mass_lost_alls', 'stellar_mass_lost_alls', 'sat_distances', 'coordinates_SG', 'CosmicTime', 'host_Mvir', 'order_variable_SG', 'parentid_SG', 'host_mstar', 'zacc_idx_SG', 'host_coord', 'host_Rvir', 'redshift', 'host_conc', 'host_at_Mvir', 'host_at_dconc', 'host_at_slope', 'host_at_vovd', 'host_at_rvir', 'host_at_mstar', 'order3_locs_SG', 'parent_zacc_SG', 'host_coords_dekel', 'host_coords_alltime', 'array_s', 'vels_array_s', 'z', 'x', 'y', 'sat_final_mvir', 'sat_final_rvir', 'sat_final_mstar', 'Rvirs', 'Dekel_conc_s', 'Dekel_slope_s', 'Dekel_virialovd_s', 'allz_mstar_s', 'allz_m_s', 'vphi_max_s', 'num_sat_s', 'parentid_s', 'parentzacc_s']\n"
     ]
    }
   ],
   "source": [
    "print(\"Attributes of the Galaxy object:\", list(vars(galaxy).keys()))"
   ]
  },
  {
   "cell_type": "code",
   "execution_count": 7,
   "metadata": {},
   "outputs": [],
   "source": [
    "\n",
    "mapped_attributes = [\n",
    "    'mass_lost_alls',  # np.log10(mass_lost_all[sat_i])\n",
    "    'rps',  # np.log10(peri[sat_i])\n",
    "    'rh_halfs',  # np.log10(R_half[sat_i]*1000)\n",
    "    'mass_ratios',  # np.log10(M_star_over_halo[sat_i])\n",
    "    'rho_bars',  # np.log10(rho_half[sat_i]+sat_stellar_disk_rhobar_half[sat_i])\n",
    "    'ras',  # apo[sat_i]\n",
    "    'eccs',  # ecc[sat_i]\n",
    "    'sat_final_mstar',  # np.log10(M_star[sat_i].round(0))\n",
    "    'sat_final_mvir',  # np.log10(M_halo[sat_i].round(0))\n",
    "    'sat_final_rvir',  # R_vir[sat_i]\n",
    "    'stellar_mass_lost_alls',  # np.log10(stellar_mass_lost_all[sat_i])\n",
    "    'CosmicTime',  # cosmo.age(redshift[idx_zaccreted[sat_i]]*cu.redshift)/u.Gyr\n",
    "    'allz_mstar_s',  # allz_mstar[sat_i,:]\n",
    "    'allz_m_s',  # allz_m[sat_i,:]\n",
    "    'sat_distances',  # sat_distances[sat_i]\n",
    "    'pericenter_locs',  # pericenter_locs[sat_i]\n",
    "    'apocenter_locs',  # apocenter_locs[sat_i]\n",
    "    'CosmicTime',  # np.diff(cosmo.age(redshift[apocenter_locs[sat_i]])/u.Gyr)\n",
    "    'coordinates_apo',  # coord_apo[sat_i]\n",
    "    'coordinates_peri',  # coord_peri[sat_i]\n",
    "    'velocities_apo',  # vel_apo[sat_i]\n",
    "    'all_apo',  # all_apo_list[sat_i]\n",
    "    'all_peri',  # all_peri_list[sat_i]\n",
    "    'CosmicTime',  # 14 - cosmo.age(redshift[idx_zaccreted[sat_i]]*cu.redshift)/u.Gyr\n",
    "    'num_sat_s',  # host_number[sat_i]\n",
    "    'allz_mstar_s',  # np.max(allz_mstar[sat_i,:], axis = 0)\n",
    "    'z',  # coord[sat_i,:,2]\n",
    "    'x',  # np.multiply(coord[sat_i,:,0], np.cos(coord[sat_i,:,1]))[:]\n",
    "    'y',  # np.multiply(coord[sat_i,:,0], np.sin(coord[sat_i,:,1]))[:]\n",
    "    'idx_zaccs',  # idx_zaccreted[sat_i]\n",
    "    'num_sat_s',  # sat_nums[sat_i]\n",
    "    'coordinates_hold',  # coord[sat_i]\n",
    "    'velocity_dispersion',  # velocity_dispersion_z0[sat_i]\n",
    "    'coordinates_hold',  # coord_arr[sat_i]\n",
    "    'velocities_hold',  # vel_arr[sat_i]\n",
    "    's001s',  # s001_val[sat_i]\n",
    "    'allz_mstar_s',  # allz_mstar[sat_i,idx_zaccreted[sat_i]]\n",
    "    'allz_m_s',  # allz_m[sat_i,idx_zaccreted[sat_i]]\n",
    "    'velocities_peri',  # vel_peri[sat_i]\n",
    "    'redshift'\n",
    "]\n",
    "\n"
   ]
  },
  {
   "cell_type": "code",
   "execution_count": 11,
   "metadata": {},
   "outputs": [],
   "source": [
    "import importlib\n",
    "#importlib.reload(load_galaxy)\n",
    "#galaxy = load_galaxy.Galaxy()\n",
    "substructure_df = galaxy.get_filtered_rows_as_dataframe(mapped_attributes)"
   ]
  },
  {
   "cell_type": "code",
   "execution_count": 11,
   "metadata": {
    "collapsed": true,
    "jupyter": {
     "outputs_hidden": true
    }
   },
   "outputs": [
    {
     "ename": "TypeError",
     "evalue": "loop of ufunc does not support argument 0 of type numpy.ndarray which has no callable log10 method",
     "output_type": "error",
     "traceback": [
      "\u001b[0;31m---------------------------------------------------------------------------\u001b[0m",
      "\u001b[0;31mAttributeError\u001b[0m                            Traceback (most recent call last)",
      "\u001b[0;31mAttributeError\u001b[0m: 'numpy.ndarray' object has no attribute 'log10'",
      "\nThe above exception was the direct cause of the following exception:\n",
      "\u001b[0;31mTypeError\u001b[0m                                 Traceback (most recent call last)",
      "\u001b[0;32m/tmp/ipykernel_3609674/3439634349.py\u001b[0m in \u001b[0;36m<module>\u001b[0;34m\u001b[0m\n\u001b[1;32m     11\u001b[0m \u001b[0;34m\u001b[0m\u001b[0m\n\u001b[1;32m     12\u001b[0m \u001b[0;31m# Apply np.log10 to the specified columns\u001b[0m\u001b[0;34m\u001b[0m\u001b[0;34m\u001b[0m\u001b[0;34m\u001b[0m\u001b[0m\n\u001b[0;32m---> 13\u001b[0;31m \u001b[0msubstructure_df\u001b[0m\u001b[0;34m[\u001b[0m\u001b[0mcolumns_to_log10\u001b[0m\u001b[0;34m]\u001b[0m \u001b[0;34m=\u001b[0m \u001b[0msubstructure_df\u001b[0m\u001b[0;34m[\u001b[0m\u001b[0mcolumns_to_log10\u001b[0m\u001b[0;34m]\u001b[0m\u001b[0;34m.\u001b[0m\u001b[0mapply\u001b[0m\u001b[0;34m(\u001b[0m\u001b[0mnp\u001b[0m\u001b[0;34m.\u001b[0m\u001b[0mlog10\u001b[0m\u001b[0;34m)\u001b[0m\u001b[0;34m\u001b[0m\u001b[0;34m\u001b[0m\u001b[0m\n\u001b[0m\u001b[1;32m     14\u001b[0m \u001b[0;34m\u001b[0m\u001b[0m\n",
      "\u001b[0;32m~/.local/lib/python3.8/site-packages/pandas/core/frame.py\u001b[0m in \u001b[0;36mapply\u001b[0;34m(self, func, axis, raw, result_type, args, **kwargs)\u001b[0m\n\u001b[1;32m   9566\u001b[0m             \u001b[0mkwargs\u001b[0m\u001b[0;34m=\u001b[0m\u001b[0mkwargs\u001b[0m\u001b[0;34m,\u001b[0m\u001b[0;34m\u001b[0m\u001b[0;34m\u001b[0m\u001b[0m\n\u001b[1;32m   9567\u001b[0m         )\n\u001b[0;32m-> 9568\u001b[0;31m         \u001b[0;32mreturn\u001b[0m \u001b[0mop\u001b[0m\u001b[0;34m.\u001b[0m\u001b[0mapply\u001b[0m\u001b[0;34m(\u001b[0m\u001b[0;34m)\u001b[0m\u001b[0;34m.\u001b[0m\u001b[0m__finalize__\u001b[0m\u001b[0;34m(\u001b[0m\u001b[0mself\u001b[0m\u001b[0;34m,\u001b[0m \u001b[0mmethod\u001b[0m\u001b[0;34m=\u001b[0m\u001b[0;34m\"apply\"\u001b[0m\u001b[0;34m)\u001b[0m\u001b[0;34m\u001b[0m\u001b[0;34m\u001b[0m\u001b[0m\n\u001b[0m\u001b[1;32m   9569\u001b[0m \u001b[0;34m\u001b[0m\u001b[0m\n\u001b[1;32m   9570\u001b[0m     def applymap(\n",
      "\u001b[0;32m~/.local/lib/python3.8/site-packages/pandas/core/apply.py\u001b[0m in \u001b[0;36mapply\u001b[0;34m(self)\u001b[0m\n\u001b[1;32m    746\u001b[0m         \u001b[0;32melif\u001b[0m \u001b[0misinstance\u001b[0m\u001b[0;34m(\u001b[0m\u001b[0mself\u001b[0m\u001b[0;34m.\u001b[0m\u001b[0mf\u001b[0m\u001b[0;34m,\u001b[0m \u001b[0mnp\u001b[0m\u001b[0;34m.\u001b[0m\u001b[0mufunc\u001b[0m\u001b[0;34m)\u001b[0m\u001b[0;34m:\u001b[0m\u001b[0;34m\u001b[0m\u001b[0;34m\u001b[0m\u001b[0m\n\u001b[1;32m    747\u001b[0m             \u001b[0;32mwith\u001b[0m \u001b[0mnp\u001b[0m\u001b[0;34m.\u001b[0m\u001b[0merrstate\u001b[0m\u001b[0;34m(\u001b[0m\u001b[0mall\u001b[0m\u001b[0;34m=\u001b[0m\u001b[0;34m\"ignore\"\u001b[0m\u001b[0;34m)\u001b[0m\u001b[0;34m:\u001b[0m\u001b[0;34m\u001b[0m\u001b[0;34m\u001b[0m\u001b[0m\n\u001b[0;32m--> 748\u001b[0;31m                 \u001b[0mresults\u001b[0m \u001b[0;34m=\u001b[0m \u001b[0mself\u001b[0m\u001b[0;34m.\u001b[0m\u001b[0mobj\u001b[0m\u001b[0;34m.\u001b[0m\u001b[0m_mgr\u001b[0m\u001b[0;34m.\u001b[0m\u001b[0mapply\u001b[0m\u001b[0;34m(\u001b[0m\u001b[0;34m\"apply\"\u001b[0m\u001b[0;34m,\u001b[0m \u001b[0mfunc\u001b[0m\u001b[0;34m=\u001b[0m\u001b[0mself\u001b[0m\u001b[0;34m.\u001b[0m\u001b[0mf\u001b[0m\u001b[0;34m)\u001b[0m\u001b[0;34m\u001b[0m\u001b[0;34m\u001b[0m\u001b[0m\n\u001b[0m\u001b[1;32m    749\u001b[0m             \u001b[0;31m# _constructor will retain self.index and self.columns\u001b[0m\u001b[0;34m\u001b[0m\u001b[0;34m\u001b[0m\u001b[0;34m\u001b[0m\u001b[0m\n\u001b[1;32m    750\u001b[0m             \u001b[0;32mreturn\u001b[0m \u001b[0mself\u001b[0m\u001b[0;34m.\u001b[0m\u001b[0mobj\u001b[0m\u001b[0;34m.\u001b[0m\u001b[0m_constructor\u001b[0m\u001b[0;34m(\u001b[0m\u001b[0mdata\u001b[0m\u001b[0;34m=\u001b[0m\u001b[0mresults\u001b[0m\u001b[0;34m)\u001b[0m\u001b[0;34m\u001b[0m\u001b[0;34m\u001b[0m\u001b[0m\n",
      "\u001b[0;32m~/.local/lib/python3.8/site-packages/pandas/core/internals/managers.py\u001b[0m in \u001b[0;36mapply\u001b[0;34m(self, f, align_keys, ignore_failures, **kwargs)\u001b[0m\n\u001b[1;32m    350\u001b[0m                     \u001b[0mapplied\u001b[0m \u001b[0;34m=\u001b[0m \u001b[0mb\u001b[0m\u001b[0;34m.\u001b[0m\u001b[0mapply\u001b[0m\u001b[0;34m(\u001b[0m\u001b[0mf\u001b[0m\u001b[0;34m,\u001b[0m \u001b[0;34m**\u001b[0m\u001b[0mkwargs\u001b[0m\u001b[0;34m)\u001b[0m\u001b[0;34m\u001b[0m\u001b[0;34m\u001b[0m\u001b[0m\n\u001b[1;32m    351\u001b[0m                 \u001b[0;32melse\u001b[0m\u001b[0;34m:\u001b[0m\u001b[0;34m\u001b[0m\u001b[0;34m\u001b[0m\u001b[0m\n\u001b[0;32m--> 352\u001b[0;31m                     \u001b[0mapplied\u001b[0m \u001b[0;34m=\u001b[0m \u001b[0mgetattr\u001b[0m\u001b[0;34m(\u001b[0m\u001b[0mb\u001b[0m\u001b[0;34m,\u001b[0m \u001b[0mf\u001b[0m\u001b[0;34m)\u001b[0m\u001b[0;34m(\u001b[0m\u001b[0;34m**\u001b[0m\u001b[0mkwargs\u001b[0m\u001b[0;34m)\u001b[0m\u001b[0;34m\u001b[0m\u001b[0;34m\u001b[0m\u001b[0m\n\u001b[0m\u001b[1;32m    353\u001b[0m             \u001b[0;32mexcept\u001b[0m \u001b[0;34m(\u001b[0m\u001b[0mTypeError\u001b[0m\u001b[0;34m,\u001b[0m \u001b[0mNotImplementedError\u001b[0m\u001b[0;34m)\u001b[0m\u001b[0;34m:\u001b[0m\u001b[0;34m\u001b[0m\u001b[0;34m\u001b[0m\u001b[0m\n\u001b[1;32m    354\u001b[0m                 \u001b[0;32mif\u001b[0m \u001b[0;32mnot\u001b[0m \u001b[0mignore_failures\u001b[0m\u001b[0;34m:\u001b[0m\u001b[0;34m\u001b[0m\u001b[0;34m\u001b[0m\u001b[0m\n",
      "\u001b[0;32m~/.local/lib/python3.8/site-packages/pandas/core/internals/blocks.py\u001b[0m in \u001b[0;36mapply\u001b[0;34m(self, func, **kwargs)\u001b[0m\n\u001b[1;32m    349\u001b[0m         \u001b[0mone\u001b[0m\u001b[0;34m\u001b[0m\u001b[0;34m\u001b[0m\u001b[0m\n\u001b[1;32m    350\u001b[0m         \"\"\"\n\u001b[0;32m--> 351\u001b[0;31m         \u001b[0mresult\u001b[0m \u001b[0;34m=\u001b[0m \u001b[0mfunc\u001b[0m\u001b[0;34m(\u001b[0m\u001b[0mself\u001b[0m\u001b[0;34m.\u001b[0m\u001b[0mvalues\u001b[0m\u001b[0;34m,\u001b[0m \u001b[0;34m**\u001b[0m\u001b[0mkwargs\u001b[0m\u001b[0;34m)\u001b[0m\u001b[0;34m\u001b[0m\u001b[0;34m\u001b[0m\u001b[0m\n\u001b[0m\u001b[1;32m    352\u001b[0m \u001b[0;34m\u001b[0m\u001b[0m\n\u001b[1;32m    353\u001b[0m         \u001b[0;32mreturn\u001b[0m \u001b[0mself\u001b[0m\u001b[0;34m.\u001b[0m\u001b[0m_split_op_result\u001b[0m\u001b[0;34m(\u001b[0m\u001b[0mresult\u001b[0m\u001b[0;34m)\u001b[0m\u001b[0;34m\u001b[0m\u001b[0;34m\u001b[0m\u001b[0m\n",
      "\u001b[0;31mTypeError\u001b[0m: loop of ufunc does not support argument 0 of type numpy.ndarray which has no callable log10 method"
     ]
    }
   ],
   "source": [
    "columns_to_log10 = [\n",
    "    'mass_lost_alls', \n",
    "    'rps', \n",
    "    'rh_halfs', \n",
    "    'mass_ratios', \n",
    "    'rho_bars', \n",
    "    'sat_final_mstar', \n",
    "    'sat_final_mvir', \n",
    "    'stellar_mass_lost_alls'\n",
    "]\n",
    "\n",
    "# Apply np.log10 to the specified columns\n",
    "substructure_df[columns_to_log10] = substructure_df[columns_to_log10].apply(np.log10)\n",
    "\n"
   ]
  },
  {
   "cell_type": "code",
   "execution_count": null,
   "metadata": {},
   "outputs": [],
   "source": [
    "# Display the transformed DataFrame\n",
    "\n",
    "print(substructure_df.iloc[0].all_peri)"
   ]
  },
  {
   "cell_type": "code",
   "execution_count": 9,
   "metadata": {},
   "outputs": [
    {
     "data": {
      "text/plain": [
       "<module 'substructure_z0' from '/scratch/gpfs/dropulic/StreamGen/StreamGen_package/substructure_z0.py'>"
      ]
     },
     "execution_count": 9,
     "metadata": {},
     "output_type": "execute_result"
    }
   ],
   "source": [
    "import importlib\n",
    "importlib.reload(substructure_z0)"
   ]
  },
  {
   "cell_type": "code",
   "execution_count": 38,
   "metadata": {},
   "outputs": [
    {
     "name": "stdout",
     "output_type": "stream",
     "text": [
      "Directory already exists: /scratch/gpfs/dropulic/StreamGen/StreamGen_package/trial/\n",
      "20\n",
      "Loaded MC files\n",
      "upper_bin_edge 15839.778694961213\n",
      "bin_no 3\n",
      "False\n",
      "3.732047389553197e-05 2.5501894882237985e-05\n",
      "in integrate_orbit\n",
      "coord_at [[ 56.909016  20.951082  37.8145   280.6569   175.07861    6.523808]\n",
      " [ 39.284653  20.684752  35.805687 299.3686   253.64052   65.94126 ]\n",
      " [ 24.58806   20.033144  29.954817 141.18524  405.2891   134.42375 ]\n",
      " ...\n",
      " [  0.         0.         0.         0.         0.         0.      ]\n",
      " [  0.         0.         0.         0.         0.         0.      ]\n",
      " [  0.         0.         0.         0.         0.         0.      ]]\n",
      "coord_at[redshift_id] [ 56.909016  20.951082  37.8145   280.6569   175.07861    6.523808]\n",
      "None\n",
      "period_est_correction 0\n",
      "huber exception!\n",
      "in stream_or_shell_integrate\n",
      "deltaPsi 4.876545902130235\n",
      "Tr 1.328\n",
      "mu 0.2889663390142649\n",
      "deltaPsi 4.875340288169861\n",
      "Tr 1.323\n",
      "mu 0.28890259348720404\n",
      "deltaPsi 4.87476711531858\n",
      "Tr 1.32\n",
      "mu 0.28832984476767176\n",
      "deltaPsi 4.875520886500217\n",
      "Tr 1.316\n",
      "mu 0.28677913051014836\n",
      "deltaPsi 4.874340670309742\n",
      "Tr 1.313\n",
      "mu 0.2878479174353077\n",
      "deltaPsi 4.874346864822865\n",
      "Tr 1.308\n",
      "mu 0.28581644942731366\n",
      "[1]\n",
      "[0.2889663390142649]\n"
     ]
    }
   ],
   "source": [
    "import substructure_z0\n",
    "import MC_metric\n",
    "\n",
    "importlib.reload(substructure_z0)\n",
    "importlib.reload(MC_metric)\n",
    "subs = substructure_z0.Substructure(substructure_df, 'trial', galaxy)\n",
    "subs.main_processing_loop()"
   ]
  }
 ],
 "metadata": {
  "anaconda-cloud": {},
  "kernelspec": {
   "display_name": "Python 3 (ipykernel)",
   "language": "python",
   "name": "python3"
  },
  "language_info": {
   "codemirror_mode": {
    "name": "ipython",
    "version": 3
   },
   "file_extension": ".py",
   "mimetype": "text/x-python",
   "name": "python",
   "nbconvert_exporter": "python",
   "pygments_lexer": "ipython3",
   "version": "3.8.3"
  }
 },
 "nbformat": 4,
 "nbformat_minor": 4
}
