{
 "cells": [
  {
   "cell_type": "code",
   "execution_count": 1,
   "metadata": {},
   "outputs": [
    {
     "name": "stdout",
     "output_type": "stream",
     "text": [
      ">>> Normalizing primordial power spectrum P(k)=(k/k_0)^n_s ...\n",
      "    such that sigma(R=8Mpc/h) =   0.8000.\n",
      ">>> Tabulating sigma(M,z=0) ...\n",
      "    From now on, sigma(M,z) is computed by interpolation.\n",
      ">>> Tabulating z(W) and z(t_lkbk)...\n",
      ">>> Preparing output redshifts for merger trees ...\n",
      "    Number of output redshifts =  354, up to z = 20.06\n",
      ">>> Tabulating Parkinson+08 J(u_res) ...\n",
      ">>> Building interpolation grid for Green+19 M(<r|f_b,c)...\n",
      ">>> Building interpolation grid for Green+19 sigma(r|f_b,c)...\n",
      ">>> Building interpolation grid for Green+19 d2Phidr2(r|f_b,c)...\n",
      ">>> Building interpolator for Jiang+15 orbit sampler...\n"
     ]
    }
   ],
   "source": [
    "import load_galaxy"
   ]
  },
  {
   "cell_type": "code",
   "execution_count": 3,
   "metadata": {},
   "outputs": [
    {
     "name": "stdout",
     "output_type": "stream",
     "text": [
      "/scratch/gpfs/dropulic/power_spectrum/SatGen_trees/SatGen/OUTPUT_SAT_MW_fd0.05_fb0.00_NIHAO_SatEvo_Mres3/tree769_lgM12.38.npz\n",
      "flattening 25.0\n",
      "disk fraction 0.05\n",
      "stellar_mass_floor 500000.0\n",
      "(10670,)\n",
      "[ True  True  True  True  True  True  True  True  True  True  True  True\n",
      "  True  True  True  True  True  True  True  True  True  True  True  True\n",
      "  True  True  True  True  True  True  True  True  True  True  True  True\n",
      "  True  True  True  True  True  True  True  True  True  True  True  True\n",
      "  True  True  True  True  True  True  True  True  True  True  True  True\n",
      "  True  True  True  True  True  True  True  True  True  True  True  True\n",
      "  True  True  True  True  True  True  True  True  True  True  True  True\n",
      "  True  True]\n"
     ]
    }
   ],
   "source": [
    "galaxy = load_galaxy.Galaxy()"
   ]
  },
  {
   "cell_type": "code",
   "execution_count": 4,
   "metadata": {},
   "outputs": [
    {
     "name": "stdout",
     "output_type": "stream",
     "text": [
      "Attributes of the Galaxy object: ['flattening', 'fd', 'stellar_mass_floor', 'host_coords_alltime_list', 'idx_zaccs', 'pericenter_locs', 'apocenter_locs', 'all_apo', 'all_peri', 'coordinates_peri', 'coordinates_apo', 'velocities_apo', 'velocities_peri', 'coordinates_hold', 'velocities_hold', 'velocity_dispersion', 'sat_disk_rhobar', 'sat_stellar_disk_rhobar', 's001s', 'rhs', 'rh_halfs', 'rho_bars', 'mass_ratios', 'ras', 'rps', 'eccs', 'mass_lost_alls', 'stellar_mass_lost_alls', 'sat_distances', 'coordinates_SG', 'CosmicTime', 'host_Mvir', 'order_variable_SG', 'parentid_SG', 'host_mstar', 'zacc_idx_SG', 'host_coord', 'host_Rvir', 'redshift', 'host_conc', 'host_at_Mvir', 'host_at_dconc', 'host_at_slope', 'host_at_vovd', 'host_at_rvir', 'host_at_mstar', 'order3_locs_SG', 'parent_zacc_SG', 'host_coords_dekel', 'host_coords_alltime', 'array_s', 'vels_array_s', 'z', 'x', 'y', 'sat_final_mvir', 'sat_final_rvir', 'sat_final_mstar', 'Rvirs', 'Dekel_conc_s', 'Dekel_slope_s', 'Dekel_virialovd_s', 'allz_mstar_s', 'allz_m_s', 'vphi_max_s', 'num_sat_s', 'parentid_s', 'parentzacc_s']\n"
     ]
    }
   ],
   "source": [
    "print(\"Attributes of the Galaxy object:\", list(vars(galaxy).keys()))"
   ]
  },
  {
   "cell_type": "code",
   "execution_count": 5,
   "metadata": {},
   "outputs": [],
   "source": [
    "\n",
    "mapped_attributes = [\n",
    "    'mass_lost_alls',  # np.log10(mass_lost_all[sat_i])\n",
    "    'rps',  # np.log10(peri[sat_i])\n",
    "    'rh_halfs',  # np.log10(R_half[sat_i]*1000)\n",
    "    'mass_ratios',  # np.log10(M_star_over_halo[sat_i])\n",
    "    'rho_bars',  # np.log10(rho_half[sat_i]+sat_stellar_disk_rhobar_half[sat_i])\n",
    "    'ras',  # apo[sat_i]\n",
    "    'eccs',  # ecc[sat_i]\n",
    "    'sat_final_mstar',  # np.log10(M_star[sat_i].round(0))\n",
    "    'sat_final_mvir',  # np.log10(M_halo[sat_i].round(0))\n",
    "    'sat_final_rvir',  # R_vir[sat_i]\n",
    "    'stellar_mass_lost_alls',  # np.log10(stellar_mass_lost_all[sat_i])\n",
    "    'CosmicTime',  # cosmo.age(redshift[idx_zaccreted[sat_i]]*cu.redshift)/u.Gyr\n",
    "    'allz_mstar_s',  # allz_mstar[sat_i,:]\n",
    "    'allz_m_s',  # allz_m[sat_i,:]\n",
    "    'sat_distances',  # sat_distances[sat_i]\n",
    "    'pericenter_locs',  # pericenter_locs[sat_i]\n",
    "    'apocenter_locs',  # apocenter_locs[sat_i]\n",
    "    'CosmicTime',  # np.diff(cosmo.age(redshift[apocenter_locs[sat_i]])/u.Gyr)\n",
    "    'coordinates_apo',  # coord_apo[sat_i]\n",
    "    'coordinates_peri',  # coord_peri[sat_i]\n",
    "    'velocities_apo',  # vel_apo[sat_i]\n",
    "    'all_apo',  # all_apo_list[sat_i]\n",
    "    'all_peri',  # all_peri_list[sat_i]\n",
    "    'CosmicTime',  # 14 - cosmo.age(redshift[idx_zaccreted[sat_i]]*cu.redshift)/u.Gyr\n",
    "    'num_sat_s',  # host_number[sat_i]\n",
    "    'allz_mstar_s',  # np.max(allz_mstar[sat_i,:], axis = 0)\n",
    "    'z',  # coord[sat_i,:,2]\n",
    "    'x',  # np.multiply(coord[sat_i,:,0], np.cos(coord[sat_i,:,1]))[:]\n",
    "    'y',  # np.multiply(coord[sat_i,:,0], np.sin(coord[sat_i,:,1]))[:]\n",
    "    'idx_zaccs',  # idx_zaccreted[sat_i]\n",
    "    'num_sat_s',  # sat_nums[sat_i]\n",
    "    'coordinates_hold',  # coord[sat_i]\n",
    "    'velocity_dispersion',  # velocity_dispersion_z0[sat_i]\n",
    "    'coordinates_hold',  # coord_arr[sat_i]\n",
    "    'velocities_hold',  # vel_arr[sat_i]\n",
    "    's001s',  # s001_val[sat_i]\n",
    "    'allz_mstar_s',  # allz_mstar[sat_i,idx_zaccreted[sat_i]]\n",
    "    'allz_m_s',  # allz_m[sat_i,idx_zaccreted[sat_i]]\n",
    "    'velocities_peri',  # vel_peri[sat_i]\n",
    "    'redshift'\n",
    "]\n",
    "\n"
   ]
  },
  {
   "cell_type": "code",
   "execution_count": 12,
   "metadata": {},
   "outputs": [],
   "source": [
    "substructure_df = galaxy.get_filtered_rows_as_dataframe(mapped_attributes)"
   ]
  },
  {
   "cell_type": "code",
   "execution_count": 15,
   "metadata": {},
   "outputs": [
    {
     "name": "stdout",
     "output_type": "stream",
     "text": [
      "Directory already exists: /scratch/gpfs/dropulic/StreamGen/StreamGen_package/trial/\n",
      "20\n",
      "Loaded MC files\n",
      "upper_bin_edge 15839.778694961213\n",
      "bin_no 3\n",
      "False\n",
      "3.732047389553197e-05 2.5501894882237985e-05\n",
      "in integrate_orbit\n",
      "coord_at [[ 56.909016  20.951082  37.8145   280.6569   175.07861    6.523808]\n",
      " [ 39.284653  20.684752  35.805687 299.3686   253.64052   65.94126 ]\n",
      " [ 24.58806   20.033144  29.954817 141.18524  405.2891   134.42375 ]\n",
      " ...\n",
      " [  0.         0.         0.         0.         0.         0.      ]\n",
      " [  0.         0.         0.         0.         0.         0.      ]\n",
      " [  0.         0.         0.         0.         0.         0.      ]]\n",
      "coord_at[redshift_id] [ 56.909016  20.951082  37.8145   280.6569   175.07861    6.523808]\n",
      "None\n",
      "period_est_correction 0\n",
      "huber exception!\n",
      "in stream_or_shell_integrate\n",
      "deltaPsi 4.876545902130235\n",
      "Tr 1.328\n",
      "mu 0.2889663390142649\n",
      "deltaPsi 4.875340288169861\n",
      "Tr 1.323\n",
      "mu 0.28890259348720404\n",
      "deltaPsi 4.87476711531858\n",
      "Tr 1.32\n",
      "mu 0.28832984476767176\n",
      "deltaPsi 4.875520886500217\n",
      "Tr 1.316\n",
      "mu 0.28677913051014836\n",
      "deltaPsi 4.874340670309742\n",
      "Tr 1.313\n",
      "mu 0.2878479174353077\n",
      "deltaPsi 4.874346864822865\n",
      "Tr 1.308\n",
      "mu 0.28581644942731366\n",
      "[1]\n",
      "[0.2889663390142649]\n"
     ]
    }
   ],
   "source": [
    "import substructure_z0\n",
    "import MC_metric\n",
    "\n",
    "subs = substructure_z0.Substructure(substructure_df, 'trial', galaxy)\n",
    "subs.main_processing_loop()\n",
    "#add intact cut etc. "
   ]
  },
  {
   "cell_type": "code",
   "execution_count": null,
   "metadata": {},
   "outputs": [],
   "source": []
  }
 ],
 "metadata": {
  "anaconda-cloud": {},
  "kernelspec": {
   "display_name": "Python 3 (ipykernel)",
   "language": "python",
   "name": "python3"
  },
  "language_info": {
   "codemirror_mode": {
    "name": "ipython",
    "version": 3
   },
   "file_extension": ".py",
   "mimetype": "text/x-python",
   "name": "python",
   "nbconvert_exporter": "python",
   "pygments_lexer": "ipython3",
   "version": "3.8.3"
  }
 },
 "nbformat": 4,
 "nbformat_minor": 4
}
